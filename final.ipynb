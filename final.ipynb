{
  "nbformat": 4,
  "nbformat_minor": 0,
  "metadata": {
    "colab": {
      "name": "final",
      "version": "0.3.2",
      "provenance": []
    },
    "kernelspec": {
      "name": "python3",
      "display_name": "Python 3"
    }
  },
  "cells": [
    {
      "cell_type": "code",
      "metadata": {
        "id": "Bcu42a6Lursi",
        "colab_type": "code",
        "colab": {}
      },
      "source": [
        "# clone repo\n",
        "!git clone https://github.com/davicorreiajr/cyclegan.git\n",
        "  \n",
        "# set folders\n",
        "!mkdir cyclegan/datasets\n",
        "!mkdir cyclegan/datasets/test\n",
        "!mkdir cyclegan/datasets/vangogh2photo\n",
        "!mkdir cyclegan/checkpoints/\n",
        "!mkdir cyclegan/checkpoints/cyclegan_simple\n",
        "!mkdir cyclegan/results/cyclegan_simple\n",
        "\n",
        "# download dataset\n",
        "!cd cyclegan && bash ./scripts/download_dataset.sh vangogh2photo\n",
        "\n",
        "# install requirements\n",
        "!cd cyclegan && pip install -r ./requirements.txt\n"
      ],
      "execution_count": 0,
      "outputs": []
    },
    {
      "cell_type": "code",
      "metadata": {
        "id": "5pmeO7Lgu3JQ",
        "colab_type": "code",
        "colab": {}
      },
      "source": [
        "# train the model and save it in ./checkpoints/cyclegan_simple\n",
        "!cd cyclegan && python train.py"
      ],
      "execution_count": 0,
      "outputs": []
    },
    {
      "cell_type": "code",
      "metadata": {
        "id": "wuLiNWkxu-Zu",
        "colab_type": "code",
        "colab": {}
      },
      "source": [
        "# test the model: apply the style to the images in ./datasets/test\n",
        "!cd cyclegan && python test.py"
      ],
      "execution_count": 0,
      "outputs": []
    }
  ]
}